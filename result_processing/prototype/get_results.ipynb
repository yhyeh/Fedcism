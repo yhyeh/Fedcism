{
 "cells": [
  {
   "cell_type": "code",
   "execution_count": null,
   "metadata": {},
   "outputs": [],
   "source": [
    "import os\n",
    "import re\n",
    "import numpy as np\n",
    "import pandas as pd\n",
    "import matplotlib.pyplot as plt"
   ]
  },
  {
   "cell_type": "code",
   "execution_count": null,
   "metadata": {},
   "outputs": [],
   "source": [
    "iid = False\n",
    "num_users = 100\n",
    "frac = 0.1\n",
    "local_ep = 1\n",
    "\n",
    "dataset = 'mnist'\n",
    "# dataset = 'cifar10'\n",
    "# dataset = 'cifar100'\n",
    "\n",
    "shard_per_user = 2\n",
    "\n",
    "if dataset == 'mnist':\n",
    "    model = 'mlp'\n",
    "    rd_lg = 100\n",
    "    rd_fed = 800 + int(rd_lg*0.15)\n",
    "elif dataset == 'cifar10':\n",
    "    model = 'cnn'\n",
    "    rd_lg = 100\n",
    "    rd_fed = 1800 + int(rd_lg*0.04)\n",
    "elif dataset == 'cifar100':\n",
    "    model = 'cnn'\n",
    "    rd_fed = 1800\n",
    "    rd_lg = 100"
   ]
  },
  {
   "cell_type": "code",
   "execution_count": null,
   "metadata": {},
   "outputs": [],
   "source": [
    "base_dir = './save/{}/{}_iid{}_num{}_C{}_le{}/shard{}/'.format(\n",
    "    dataset, model, iid, num_users, frac, local_ep, shard_per_user)\n",
    "runs = os.listdir(base_dir)"
   ]
  },
  {
   "cell_type": "code",
   "execution_count": null,
   "metadata": {},
   "outputs": [],
   "source": [
    "acc_fed = np.zeros(len(runs))\n",
    "acc_local_localtest = np.zeros(len(runs))\n",
    "acc_local_newtest_avg = np.zeros(len(runs))\n",
    "acc_local_newtest_ens = np.zeros(len(runs))\n",
    "lg_metrics = {}\n",
    "\n",
    "for idx, run in enumerate(runs):\n",
    "    \n",
    "    '''\n",
    "    # LocalOnly\n",
    "    base_dir_local = os.path.join(base_dir, \"{}/local\".format(run))\n",
    "    results_path_local = os.path.join(base_dir_local, \"results.csv\")\n",
    "    df_local = pd.read_csv(results_path_local)\n",
    "\n",
    "    acc_local_localtest[idx] = df_local.loc[0]['acc_test_local']\n",
    "    acc_local_newtest_avg[idx] = df_local.loc[0]['acc_test_avg']\n",
    "    if 'acc_test_ens' in df_local.columns:\n",
    "        acc_local_newtest_ens[idx] = df_local.loc[0]['acc_test_ens']\n",
    "    else:\n",
    "        acc_local_newtest_ens[idx] = df_local.loc[0]['acc_test_ens_avg']\n",
    "    '''\n",
    "    '''\n",
    "    # LGFed\n",
    "    base_dir_lg = os.path.join(base_dir, \"{}/lg/\".format(run))\n",
    "    lg_runs = os.listdir(base_dir_lg)\n",
    "    for lg_run in lg_runs:\n",
    "        results_path_lg = os.path.join(base_dir_lg, \"{}/results.csv\".format(lg_run))\n",
    "        df_lg = pd.read_csv(results_path_lg)\n",
    "        \n",
    "        load_fed = int(re.split('best_|.pt', lg_run)[1])\n",
    "        if load_fed not in lg_metrics.keys():\n",
    "            lg_metrics[load_fed] = {'acc_local': np.zeros(len(runs)),\n",
    "                                    'acc_avg': np.zeros(len(runs)),\n",
    "                                    'acc_ens': np.zeros(len(runs))}\n",
    "            \n",
    "        x = df_lg.loc[rd_lg]['best_acc_local']\n",
    "        lg_metrics[load_fed]['acc_local'][idx] = x\n",
    "        idx_acc_local = df_lg[df_lg['best_acc_local'] == x].index[0]\n",
    "        lg_metrics[load_fed]['acc_avg'][idx] = df_lg.loc[idx_acc_local]['acc_test_avg']\n",
    "        if 'acc_test_ens' in df_lg.columns:\n",
    "            lg_metrics[load_fed]['acc_ens'][idx] = df_lg['acc_test_ens'].values[-1]\n",
    "        else:\n",
    "            lg_metrics[load_fed]['acc_ens'][idx] = df_lg['acc_test_ens_avg'].values[-1]\n",
    "        '''\n",
    "    # FedAvg\n",
    "    base_dir_fed = os.path.join(base_dir, \"{}/fed\".format(run))\n",
    "    results_path_fed = os.path.join(base_dir_fed, \"results.csv\")\n",
    "    df_fed = pd.read_csv(results_path_fed)\n",
    "    print(df_fed.head())\n",
    "    plt.figure()\n",
    "    acc_fed[idx] = df_fed.loc[rd_fed - 1]['best_acc']\n",
    "    #df_fed.plot()\n",
    "    plt.plot(df_fed['epoch'], df_fed['acc_test'])"
   ]
  },
  {
   "cell_type": "code",
   "execution_count": null,
   "metadata": {},
   "outputs": [],
   "source": [
    "columns = [\"Run\", \"Local Test\", \"New Test (avg)\", \"New Test (ens)\", \"FedAvg Rounds\", \"LG Rounds\"]\n",
    "results = []"
   ]
  },
  {
   "cell_type": "code",
   "execution_count": null,
   "metadata": {},
   "outputs": [],
   "source": [
    "str_acc_local_localtest = \"{:.2f} +- {:.2f}\".format(acc_local_localtest.mean(), acc_local_localtest.std())\n",
    "str_acc_local_newtest_avg = \"{:.2f} +- {:.2f}\".format(acc_local_newtest_avg.mean(), acc_local_newtest_avg.std())\n",
    "str_acc_local_newtest_ens = \"{:.2f} +- {:.2f}\".format(acc_local_newtest_ens.mean(), acc_local_newtest_ens.std())\n",
    "\n",
    "print(\"localonly:\\t\", str_acc_local_localtest)\n",
    "print(\"localonly_avg:\\t\", str_acc_local_newtest_avg)\n",
    "print(\"localonly_ens:\\t\", str_acc_local_newtest_ens)\n",
    "\n",
    "results.append([\"LocalOnly\", str_acc_local_localtest, str_acc_local_newtest_avg, str_acc_local_newtest_ens, 0, 0])"
   ]
  },
  {
   "cell_type": "code",
   "execution_count": null,
   "metadata": {},
   "outputs": [],
   "source": [
    "for lg_run in sorted(lg_metrics.keys()):\n",
    "    x = [\"LG-FedAvg\"]\n",
    "    print(lg_run)\n",
    "    for array in ['acc_local', 'acc_avg', 'acc_ens']:\n",
    "        mean = lg_metrics[lg_run][array].mean()\n",
    "        std = lg_metrics[lg_run][array].std()\n",
    "        str_acc = \"{:.2f} +- {:.2f}\".format(mean, std)\n",
    "        print(\"{}:\\t{}\".format(array, str_acc))\n",
    "        \n",
    "        x.append(str_acc)\n",
    "    x.append(lg_run)\n",
    "    x.append(rd_lg)\n",
    "    results.append(x)"
   ]
  },
  {
   "cell_type": "code",
   "execution_count": null,
   "metadata": {},
   "outputs": [],
   "source": [
    "str_acc_fed = \"{:.2f} +- {:.2f}\".format(acc_fed.mean(), acc_fed.std())\n",
    "print(\"fed:\\t\", str_acc_fed)\n",
    "results.append([\"FedAvg\", str_acc_fed, str_acc_fed, str_acc_fed, rd_fed, 0])"
   ]
  },
  {
   "cell_type": "code",
   "execution_count": null,
   "metadata": {},
   "outputs": [],
   "source": [
    "pd.DataFrame(results, columns=columns).set_index(\"Run\")"
   ]
  }
 ],
 "metadata": {
  "kernelspec": {
   "display_name": "Python 3.7.3 ('base')",
   "language": "python",
   "name": "python3"
  },
  "language_info": {
   "codemirror_mode": {
    "name": "ipython",
    "version": 3
   },
   "file_extension": ".py",
   "mimetype": "text/x-python",
   "name": "python",
   "nbconvert_exporter": "python",
   "pygments_lexer": "ipython3",
   "version": "3.7.3"
  },
  "vscode": {
   "interpreter": {
    "hash": "40d3a090f54c6569ab1632332b64b2c03c39dcf918b08424e98f38b5ae0af88f"
   }
  }
 },
 "nbformat": 4,
 "nbformat_minor": 4
}
