{
 "cells": [
  {
   "cell_type": "code",
   "execution_count": null,
   "metadata": {},
   "outputs": [],
   "source": [
    "%matplotlib inline  \n",
    "\n",
    "import numpy as np\n",
    "import matplotlib.pyplot as plt\n",
    "import os, os.path\n",
    "from utils.distribution import distr_profile\n"
   ]
  },
  {
   "cell_type": "code",
   "execution_count": null,
   "metadata": {
    "scrolled": false
   },
   "outputs": [],
   "source": [
    "fig_zoom = 0.3\n",
    "dataset = 'cifar10'\n",
    "distr = 'zipf'\n",
    "run = 2\n",
    "\n",
    "for n_shard in [10, 2]:\n",
    "    fig, ax = plt.subplots(figsize=(16*fig_zoom, 9*fig_zoom))\n",
    "    for vi, mk in [(1,':'), (3, '--'), (5, '-.')]:\n",
    "        file = '{}_dict_users_vi{}_r{}.pkl'.format(distr,vi,run)\n",
    "        path = '../save/cifar10/data_distr/num100/shard{}/{}'.format(n_shard, file)\n",
    "        profile = distr_profile(path)\n",
    "        vol_frac = profile.get_local_vol_frac()\n",
    "        sorted_vol_frac = vol_frac[profile.get_vol_asc_ID()]\n",
    "        #ax.plot(range(profile.num_users), np.cumsum(vol_frac), \n",
    "        #        mk, label='{}'.format(vi))\n",
    "        #ax.plot(range(profile.num_users), np.cumsum(sorted_vol_frac), \n",
    "        #        mk, label='{}'.format(vi))\n",
    "        ax.plot(profile.local_vol[profile.get_vol_asc_ID()], np.cumsum(sorted_vol_frac), \n",
    "                mk, label='100/{}'.format(vi))\n",
    "        print(max(profile.local_vol))\n",
    "        ax.legend(title='$\\\\sigma$', fontsize=8, frameon=False)\n",
    "        ax.set_ylabel('CDF')\n",
    "        ax.set_xlabel('Data Volume of Clients')\n",
    "        # Hide the right and top spines\n",
    "        ax.spines['right'].set_visible(False)\n",
    "        ax.spines['top'].set_visible(False)\n",
    "    \n",
    "        fig.tight_layout()\n",
    "        fig_name = 'vol_cdf_{}_s{}_xvol'.format(distr, n_shard)\n",
    "        #fig_name = 'vol_cdf_zipf_s{}_sorted'.format(n_shard)\n",
    "        fig_dir = os.path.join('..', 'save', dataset, 'fig', 'sigma_ver')\n",
    "        os.makedirs(fig_dir, exist_ok=True)\n",
    "        fig_path = os.path.join(fig_dir, fig_name)\n",
    "        fig.savefig('{}.{}'.format(fig_path, 'png'), format='png', transparent=True)\n",
    "        fig.savefig('{}.{}'.format(fig_path, 'eps'), format='eps', transparent=True)\n",
    "        #_ =profile.plot_local_distr(n_shard, title=False, legend=False, color=False)"
   ]
  },
  {
   "cell_type": "code",
   "execution_count": null,
   "metadata": {},
   "outputs": [],
   "source": []
  }
 ],
 "metadata": {
  "kernelspec": {
   "display_name": "Python 3.7.3 ('base')",
   "language": "python",
   "name": "python3"
  },
  "language_info": {
   "codemirror_mode": {
    "name": "ipython",
    "version": 3
   },
   "file_extension": ".py",
   "mimetype": "text/x-python",
   "name": "python",
   "nbconvert_exporter": "python",
   "pygments_lexer": "ipython3",
   "version": "3.7.3"
  },
  "vscode": {
   "interpreter": {
    "hash": "40d3a090f54c6569ab1632332b64b2c03c39dcf918b08424e98f38b5ae0af88f"
   }
  }
 },
 "nbformat": 4,
 "nbformat_minor": 2
}
