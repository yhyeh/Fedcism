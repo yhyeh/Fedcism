{
 "cells": [
  {
   "cell_type": "code",
   "execution_count": null,
   "metadata": {},
   "outputs": [],
   "source": [
    "%matplotlib inline  \n",
    "\n",
    "import scipy.stats as ss\n",
    "import numpy as np\n",
    "import matplotlib.pyplot as plt\n",
    "from scipy.stats import norm\n",
    "from scipy.special import softmax\n",
    "from math import ceil\n",
    "np.random.seed(1001)"
   ]
  },
  {
   "cell_type": "code",
   "execution_count": null,
   "metadata": {},
   "outputs": [],
   "source": [
    "# utility init\n",
    "#np.random()\n",
    "sorted_u = {1:100, 2:20, 3:30}\n",
    "cap = ceil(len(sorted_u)*(1-0.95))\n",
    "print(cap)\n",
    "max_u = max(sorted_u.values())\n",
    "sum_u = sum(sorted_u.values())\n",
    "v = np.array(list(sorted_u.values()))\n",
    "print(v, type(v))\n",
    "print(softmax(v))\n",
    "print(v/sum_u)\n",
    "prob = {}\n",
    "print(reversed(sorted_u))\n",
    "for k,v in reversed(sorted_u):\n",
    "    prob[k] = v/max_u\n",
    "print(prob)"
   ]
  },
  {
   "cell_type": "code",
   "execution_count": null,
   "metadata": {},
   "outputs": [],
   "source": [
    "np.random.choice(list(sorted_u.keys()), 2, p=[0.1, 0.3, 0.6])\n",
    "t_i = np.random.poisson(4, size=100) + 1\n",
    "pdf = t_i[[1,3,4]]/sum(t_i[[1,3,4]])\n",
    "\n",
    "print(t_i)\n",
    "print(pdf)\n",
    "plt.hist(t_i)"
   ]
  },
  {
   "cell_type": "code",
   "execution_count": null,
   "metadata": {},
   "outputs": [],
   "source": [
    "num_users = 100\n",
    "shard_per_user = 10\n",
    "num_classes = 10\n",
    "n_shard = shard_per_user*num_users\n",
    "shard_per_class = int(shard_per_user * num_users / num_classes)\n",
    "all_shards = list(range(num_classes)) * shard_per_class\n",
    "#print(all_shards)\n",
    "np.random.shuffle(all_shards)\n",
    "#print(all_shards)\n",
    "\n",
    "\n",
    "pdf = norm.pdf(range(num_users) , loc = int(num_users/2) , scale = int(num_users/3))\n",
    "pdf = pdf / pdf.sum()\n",
    "#print(pdf)\n",
    "#print(np.sum(pdf))\n",
    "#print(np.round(pdf*n_shard))\n",
    "plt.plot(pdf*n_shard)\n",
    "\n",
    "shard_owner = np.random.choice(range(num_users), size=n_shard-num_users, p = pdf)\n",
    "shard_owner = np.concatenate((shard_owner, range(num_users)), axis=None)\n",
    "print(list(shard_owner))\n",
    "unbalanced_rand_set = []\n",
    "for i in range(num_users): unbalanced_rand_set.append([])\n",
    "for shard, owner in zip(all_shards, shard_owner):\n",
    "    unbalanced_rand_set[owner].append(shard)\n",
    "\n",
    "print(unbalanced_rand_set)\n",
    "ret = plt.hist(shard_owner, bins = num_users)\n",
    "cnt = ret[0]\n",
    "assert(sum(cnt) == n_shard)\n",
    "print(cnt)\n",
    "print(max(cnt))\n",
    "print(min(cnt))"
   ]
  },
  {
   "cell_type": "code",
   "execution_count": null,
   "metadata": {},
   "outputs": [],
   "source": []
  },
  {
   "cell_type": "code",
   "execution_count": null,
   "metadata": {},
   "outputs": [],
   "source": []
  },
  {
   "cell_type": "code",
   "execution_count": null,
   "metadata": {},
   "outputs": [],
   "source": []
  }
 ],
 "metadata": {
  "kernelspec": {
   "display_name": "Python 3.7.3 ('base')",
   "language": "python",
   "name": "python3"
  },
  "language_info": {
   "codemirror_mode": {
    "name": "ipython",
    "version": 3
   },
   "file_extension": ".py",
   "mimetype": "text/x-python",
   "name": "python",
   "nbconvert_exporter": "python",
   "pygments_lexer": "ipython3",
   "version": "3.7.3"
  },
  "vscode": {
   "interpreter": {
    "hash": "40d3a090f54c6569ab1632332b64b2c03c39dcf918b08424e98f38b5ae0af88f"
   }
  }
 },
 "nbformat": 4,
 "nbformat_minor": 2
}
