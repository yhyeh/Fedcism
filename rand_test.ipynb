{
 "cells": [
  {
   "cell_type": "code",
   "execution_count": 6,
   "metadata": {},
   "outputs": [
    {
     "name": "stdout",
     "output_type": "stream",
     "text": [
      "[37, 42, 88, 31, 41, 82, 27, 20, 68, 94, 31, 74, 57, 64, 66, 73, 95, 39, 7, 92, 0, 37, 21, 94, 75, 12, 65, 75, 63, 36, 67, 37, 9, 43, 76, 65, 31, 31, 31, 53, 41, 3, 47, 76, 54, 10, 58, 18, 80, 72, 68, 94, 6, 49, 6, 31, 72, 93, 45, 35, 41, 20, 26, 97, 58, 70, 47, 26, 45, 47, 35, 23, 32, 35, 43, 15, 15, 59, 58, 73, 21, 37, 87, 63, 67, 67, 70, 14, 37, 49, 57, 13, 48, 51, 56, 44, 84, 45, 70, 29, 25, 14, 3, 32, 9, 22, 84, 35, 64, 64, 58, 32, 21, 44, 74, 33, 24, 76, 84, 65, 17, 43, 45, 21, 45, 58, 14, 62, 22, 70, 59, 62, 51, 14, 77, 60, 26, 95, 52, 71, 75, 18, 49, 27, 36, 61, 48, 76, 46, 55, 91, 21, 78, 52, 10, 60, 32, 46, 49, 40, 27, 16, 53, 65, 49, 29, 68, 82, 65, 20, 33, 48, 64, 40, 18, 34, 11, 36, 69, 35, 44, 32, 29, 33, 49, 21, 52, 60, 50, 28, 93, 71, 83, 15, 90, 30, 67, 37, 60, 4, 37, 38, 9, 43, 22, 69, 68, 13, 40, 65, 62, 55, 34, 39, 85, 62, 39, 58, 30, 93, 58, 72, 19, 92, 58, 55, 50, 46, 17, 29, 39, 42, 82, 7, 21, 63, 29, 75, 21, 46, 68, 98, 39, 55, 31, 44, 27, 40, 54, 23, 69, 45, 65, 18, 42, 37, 63, 40, 31, 84, 59, 23, 50, 85, 79, 83, 58, 20, 26, 56, 67, 61, 6, 97, 10, 56, 77, 18, 91, 57, 62, 47, 4, 83, 71, 61, 76, 75, 57, 51, 88, 31, 69, 53, 26, 81, 65, 12, 35, 19, 34, 74, 12, 52, 62, 34, 65, 79, 66, 44, 40, 36, 93, 71, 3, 27, 49, 36, 27, 27, 47, 98, 32, 20, 33, 55, 64, 42, 33, 72, 43, 69, 90, 90, 16, 2, 34, 91, 42, 59, 20, 39, 31, 58, 85, 63, 57, 62, 96, 11, 31, 94, 80, 70, 77, 84, 39, 43, 34, 52, 75, 90, 14, 46, 48, 9, 12, 82, 43, 79, 21, 92, 47, 17, 41, 64, 24, 36, 44, 14, 73, 83, 58, 37, 6, 42, 41, 65, 90, 31, 39, 91, 59, 18, 73, 48, 10, 28, 34, 17, 10, 58, 89, 70, 38, 67, 88, 59, 50, 31, 30, 42, 63, 87, 10, 67, 39, 8, 22, 54, 32, 44, 54, 29, 55, 72, 29, 53, 60, 25, 82, 38, 30, 56, 65, 74, 89, 90, 76, 58, 64, 24, 15, 9, 12, 55, 28, 3, 19, 86, 1, 58, 43, 56, 49, 46, 45, 27, 50, 45, 25, 31, 91, 51, 24, 58, 36, 61, 12, 12, 43, 74, 22, 53, 41, 44, 20, 62, 42, 75, 22, 41, 83, 76, 62, 13, 81, 66, 98, 86, 41, 50, 59, 45, 15, 37, 31, 62, 83, 23, 35, 61, 48, 23, 5, 66, 72, 88, 26, 39, 25, 81, 12, 48, 61, 87, 43, 72, 33, 72, 68, 56, 34, 9, 14, 65, 71, 70, 55, 47, 54, 82, 52, 8, 74, 76, 34, 83, 47, 28, 40, 51, 21, 11, 79, 34, 95, 34, 26, 71, 48, 11, 49, 72, 88, 53, 55, 40, 46, 57, 69, 46, 95, 23, 71, 12, 32, 53, 22, 68, 6, 73, 66, 66, 38, 23, 56, 86, 42, 57, 41, 20, 77, 21, 37, 63, 63, 0, 25, 50, 41, 70, 45, 41, 2, 51, 22, 49, 64, 74, 75, 17, 81, 46, 84, 49, 25, 60, 46, 5, 57, 6, 8, 65, 15, 43, 61, 17, 74, 17, 28, 87, 15, 64, 17, 52, 37, 23, 1, 73, 33, 49, 58, 57, 27, 73, 22, 10, 21, 63, 81, 8, 61, 26, 30, 71, 59, 79, 47, 29, 4, 58, 62, 63, 2, 5, 58, 66, 78, 55, 51, 29, 5, 0, 53, 18, 68, 50, 60, 4, 59, 58, 45, 26, 88, 47, 0, 48, 35, 58, 31, 59, 53, 75, 89, 46, 83, 31, 49, 32, 62, 52, 13, 64, 55, 67, 1, 80, 59, 25, 19, 72, 51, 87, 16, 97, 74, 32, 42, 53, 72, 17, 24, 62, 43, 93, 25, 68, 24, 18, 18, 29, 40, 36, 95, 54, 38, 74, 84, 48, 63, 47, 85, 23, 40, 11, 67, 31, 20, 80, 14, 72, 59, 26, 60, 33, 32, 14, 22, 89, 52, 67, 74, 20, 40, 56, 47, 16, 11, 69, 80, 87, 59, 12, 61, 47, 86, 40, 49, 18, 34, 33, 53, 32, 42, 88, 82, 62, 76, 18, 96, 37, 69, 12, 20, 65, 51, 46, 42, 44, 78, 50, 44, 73, 73, 65, 22, 21, 7, 35, 72, 28, 39, 9, 76, 19, 37, 10, 20, 39, 56, 57, 31, 52, 52, 62, 11, 77, 42, 11, 40, 66, 78, 95, 34, 3, 11, 69, 29, 47, 38, 57, 41, 42, 71, 42, 83, 37, 18, 61, 14, 75, 64, 26, 52, 47, 3, 78, 98, 20, 35, 60, 82, 77, 41, 43, 22, 97, 77, 69, 67, 46, 1, 38, 22, 13, 18, 67, 66, 37, 32, 38, 57, 77, 64, 75, 53, 75, 46, 86, 59, 83, 19, 90, 84, 61, 24, 52, 65, 62, 33, 77, 51, 66, 38, 13, 22, 18, 12, 91, 0, 1, 2, 3, 4, 5, 6, 7, 8, 9, 10, 11, 12, 13, 14, 15, 16, 17, 18, 19, 20, 21, 22, 23, 24, 25, 26, 27, 28, 29, 30, 31, 32, 33, 34, 35, 36, 37, 38, 39, 40, 41, 42, 43, 44, 45, 46, 47, 48, 49, 50, 51, 52, 53, 54, 55, 56, 57, 58, 59, 60, 61, 62, 63, 64, 65, 66, 67, 68, 69, 70, 71, 72, 73, 74, 75, 76, 77, 78, 79, 80, 81, 82, 83, 84, 85, 86, 87, 88, 89, 90, 91, 92, 93, 94, 95, 96, 97, 98, 99]\n",
      "[[2, 1, 3, 5, 1], [3, 9, 7, 8, 8], [9, 6, 1, 4], [7, 9, 5, 5, 8, 4, 0], [0, 5, 8, 2, 7], [7, 6, 7, 0, 1], [9, 3, 5, 7, 8, 5, 3], [5, 1, 1, 8], [7, 0, 9, 1, 4], [2, 1, 6, 3, 6, 0, 9, 2], [5, 3, 8, 3, 3, 9, 4, 4, 1], [9, 1, 0, 5, 4, 8, 0, 3, 1, 5], [0, 2, 5, 6, 9, 4, 9, 7, 7, 6, 6, 6, 5], [3, 5, 2, 0, 6, 1, 5], [2, 8, 8, 7, 9, 4, 9, 0, 0, 2, 0], [6, 0, 3, 2, 1, 7, 0, 2], [8, 4, 9, 6, 6], [4, 0, 4, 6, 8, 0, 1, 8, 8, 6], [8, 1, 0, 4, 3, 4, 2, 7, 6, 6, 1, 0, 5, 4, 0], [9, 3, 5, 9, 1, 0, 4], [2, 3, 0, 6, 5, 0, 1, 2, 3, 1, 6, 8, 7, 0], [7, 1, 4, 6, 4, 1, 0, 9, 1, 0, 5, 7, 0, 2], [3, 2, 5, 7, 8, 8, 7, 6, 6, 4, 4, 4, 1, 0, 4], [1, 2, 3, 6, 9, 7, 9, 6, 2, 8], [0, 9, 2, 9, 5, 8, 1, 5], [5, 0, 2, 1, 8, 9, 1, 7, 0], [8, 0, 4, 2, 1, 2, 3, 6, 0, 5, 5, 7], [7, 0, 2, 0, 2, 9, 6, 9, 7, 0], [2, 1, 0, 2, 5, 9, 3], [8, 5, 7, 6, 0, 5, 4, 9, 3, 7, 9, 8], [3, 5, 3, 0, 3, 4], [0, 6, 5, 5, 7, 3, 5, 5, 3, 2, 8, 8, 1, 7, 8, 2, 2, 7, 8, 2], [2, 3, 6, 9, 9, 1, 1, 4, 5, 2, 6, 0, 7, 7], [6, 3, 8, 7, 5, 0, 1, 8, 1, 2, 8], [9, 2, 4, 3, 1, 4, 3, 3, 4, 1, 8, 7, 0, 6], [9, 3, 0, 5, 7, 0, 3, 2, 7, 6, 1], [0, 6, 3, 6, 6, 2, 8, 5, 2], [8, 1, 3, 3, 4, 1, 0, 0, 8, 6, 2, 5, 2, 1, 2, 4, 9], [4, 1, 7, 3, 1, 3, 8, 5, 9, 0], [1, 3, 3, 0, 3, 7, 4, 0, 7, 4, 4, 2, 9], [3, 0, 5, 9, 0, 9, 4, 1, 5, 4, 6, 7, 0, 2], [2, 4, 4, 0, 1, 1, 7, 1, 3, 5, 9, 0, 4, 0], [1, 5, 6, 9, 4, 8, 3, 4, 1, 6, 5, 2, 6, 0, 6, 5], [9, 3, 5, 9, 5, 9, 7, 0, 4, 2, 7, 1, 4, 0], [2, 9, 9, 9, 9, 7, 8, 7, 0, 1, 9], [4, 0, 3, 5, 1, 1, 0, 9, 5, 9, 7, 8], [0, 2, 0, 0, 2, 6, 2, 3, 8, 7, 9, 2, 2, 3, 1], [4, 4, 8, 9, 4, 8, 5, 4, 7, 7, 4, 8, 7, 8, 8, 4], [7, 8, 3, 7, 1, 7, 4, 2, 5, 6, 5], [8, 7, 0, 5, 5, 2, 4, 8, 9, 8, 8, 6, 6, 0, 4], [6, 7, 6, 3, 2, 6, 6, 0, 5, 4], [6, 8, 2, 2, 5, 7, 4, 6, 4, 0, 2], [7, 9, 1, 8, 8, 2, 3, 1, 2, 2, 8, 7, 0, 5], [8, 9, 7, 8, 8, 6, 1, 3, 7, 8, 9, 8, 3], [0, 3, 2, 8, 8, 3, 9], [1, 4, 8, 1, 5, 4, 5, 3, 3, 3, 8, 9], [9, 5, 6, 0, 9, 5, 9, 4, 1, 2], [1, 6, 9, 1, 1, 7, 4, 1, 5, 5, 1, 8, 8], [7, 1, 3, 4, 8, 9, 7, 7, 3, 6, 3, 4, 5, 3, 7, 9, 2, 8, 9, 0, 5], [4, 4, 9, 5, 7, 8, 3, 1, 1, 5, 0, 4, 6, 6, 7], [2, 8, 6, 9, 0, 9, 5, 8, 2, 2], [3, 0, 1, 7, 1, 9, 9, 7, 1, 8, 9, 3], [5, 5, 6, 9, 2, 1, 0, 1, 0, 9, 6, 4, 4, 5, 6, 2, 8], [3, 9, 5, 0, 4, 2, 2, 9, 0, 9, 3, 4], [3, 9, 5, 6, 3, 5, 0, 4, 0, 2, 0, 5, 4], [3, 6, 2, 6, 2, 7, 7, 9, 7, 9, 6, 2, 4, 3, 4, 0, 1], [4, 6, 2, 9, 3, 4, 0, 6, 0, 5, 5], [8, 8, 3, 3, 3, 1, 2, 3, 9, 4, 3, 2, 7], [2, 7, 1, 1, 2, 1, 5, 9, 2, 6], [7, 0, 2, 1, 2, 5, 9, 6, 6, 9, 2], [9, 2, 6, 5, 6, 6, 2, 6, 7], [9, 5, 9, 3, 8, 4, 5, 3, 8, 4], [1, 5, 3, 4, 5, 7, 7, 8, 6, 7, 6, 2, 3, 1], [4, 5, 4, 1, 8, 0, 1, 6, 3, 6], [9, 5, 2, 6, 1, 4, 8, 0, 7, 2, 5, 6], [9, 5, 5, 1, 4, 8, 4, 5, 8, 4, 2, 3, 2], [8, 8, 4, 1, 8, 3, 7, 8, 6, 9, 3], [8, 8, 7, 7, 9, 1, 3, 4, 6, 1], [3, 0, 4, 5, 9, 8], [1, 5, 9, 0, 8, 6], [0, 3, 8, 6, 9, 1], [4, 2, 7, 3, 6, 7], [6, 5, 1, 1, 7, 9, 1, 4, 9], [5, 5, 3, 3, 3, 9, 2, 6, 3, 3, 5], [5, 9, 1, 0, 2, 2, 6, 7, 0], [8, 6, 8, 5, 7], [7, 3, 4, 7, 8, 9], [7, 1, 7, 2, 6, 8, 4], [8, 2, 4, 4, 9, 6, 0, 4], [7, 1, 1, 3, 7], [7, 4, 4, 6, 7, 7, 9, 7], [3, 8, 3, 2, 6, 6, 3], [4, 0, 6, 0], [5, 3, 8, 3, 0, 2], [7, 0, 6, 2, 7], [6, 8, 9, 4, 6, 8, 6], [2, 5, 6], [7, 1, 8, 1, 9], [0, 7, 4, 2, 5], [7]]\n",
      "[ 5.  5.  4.  7.  5.  5.  7.  4.  5.  8.  9. 10. 13.  7. 11.  8.  5. 10.\n",
      " 15.  7. 14. 14. 15. 10.  8.  9. 12. 10.  7. 12.  6. 20. 14. 11. 14. 11.\n",
      "  9. 17. 10. 13. 14. 14. 16. 14. 11. 12. 15. 16. 11. 15. 10. 11. 14. 13.\n",
      "  7. 12. 10. 13. 21. 15. 10. 12. 17. 12. 13. 17. 11. 13. 10. 11.  9. 10.\n",
      " 14. 10. 12. 13. 11. 10.  6.  6.  6.  6.  9. 11.  9.  5.  6.  7.  8.  5.\n",
      "  8.  7.  4.  6.  5.  7.  3.  5.  5.  1.]\n",
      "21.0\n",
      "1.0\n"
     ]
    },
    {
     "data": {
      "image/png": "[encoded data removed]",
      "text/plain": [
       "<Figure size 432x288 with 1 Axes>"
      ]
     },
     "metadata": {
      "needs_background": "light"
     },
     "output_type": "display_data"
    }
   ],
   "source": [
    "%matplotlib inline  \n",
    "\n",
    "import scipy.stats as ss\n",
    "import numpy as np\n",
    "import matplotlib.pyplot as plt\n",
    "from scipy.stats import norm\n",
    "\n",
    "\n",
    "\n",
    "np.random.seed(1001)\n",
    "num_users = 100\n",
    "shard_per_user = 10\n",
    "num_classes = 10\n",
    "n_shard = shard_per_user*num_users\n",
    "shard_per_class = int(shard_per_user * num_users / num_classes)\n",
    "all_shards = list(range(num_classes)) * shard_per_class\n",
    "#print(all_shards)\n",
    "np.random.shuffle(all_shards)\n",
    "#print(all_shards)\n",
    "\n",
    "\n",
    "pdf = norm.pdf(range(num_users) , loc = int(num_users/2) , scale = int(num_users/3))\n",
    "pdf = pdf / pdf.sum()\n",
    "#print(pdf)\n",
    "#print(np.sum(pdf))\n",
    "#print(np.round(pdf*n_shard))\n",
    "plt.plot(pdf*n_shard)\n",
    "\n",
    "shard_owner = np.random.choice(range(num_users), size=n_shard-num_users, p = pdf)\n",
    "shard_owner = np.concatenate((shard_owner, range(num_users)), axis=None)\n",
    "print(list(shard_owner))\n",
    "unbalanced_rand_set = []\n",
    "for i in range(num_users): unbalanced_rand_set.append([])\n",
    "for shard, owner in zip(all_shards, shard_owner):\n",
    "    unbalanced_rand_set[owner].append(shard)\n",
    "\n",
    "print(unbalanced_rand_set)\n",
    "ret = plt.hist(shard_owner, bins = num_users)\n",
    "cnt = ret[0]\n",
    "assert(sum(cnt) == n_shard)\n",
    "print(cnt)\n",
    "print(max(cnt))\n",
    "print(min(cnt))"
   ]
  },
  {
   "cell_type": "code",
   "execution_count": null,
   "metadata": {},
   "outputs": [],
   "source": []
  },
  {
   "cell_type": "code",
   "execution_count": null,
   "metadata": {},
   "outputs": [],
   "source": []
  },
  {
   "cell_type": "code",
   "execution_count": null,
   "metadata": {},
   "outputs": [],
   "source": []
  }
 ],
 "metadata": {
  "kernelspec": {
   "display_name": "Python 3",
   "language": "python",
   "name": "python3"
  },
  "language_info": {
   "codemirror_mode": {
    "name": "ipython",
    "version": 3
   },
   "file_extension": ".py",
   "mimetype": "text/x-python",
   "name": "python",
   "nbconvert_exporter": "python",
   "pygments_lexer": "ipython3",
   "version": "3.7.3"
  }
 },
 "nbformat": 4,
 "nbformat_minor": 2
}
