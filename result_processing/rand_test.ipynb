{
 "cells": [
  {
   "cell_type": "code",
   "execution_count": 31,
   "metadata": {},
   "outputs": [],
   "source": [
    "%matplotlib inline  \n",
    "\n",
    "import scipy.stats as ss\n",
    "import numpy as np\n",
    "import matplotlib.pyplot as plt\n",
    "from scipy.stats import norm\n",
    "from scipy.special import softmax\n",
    "from math import ceil\n",
    "np.random.seed(1001)"
   ]
  },
  {
   "cell_type": "code",
   "execution_count": 36,
   "metadata": {},
   "outputs": [
    {
     "name": "stdout",
     "output_type": "stream",
     "text": [
      "1\n",
      "[100  20  30] <class 'numpy.ndarray'>\n",
      "[1.00000000e+00 1.80485139e-35 3.97544974e-31]\n",
      "[0.66666667 0.13333333 0.2       ]\n"
     ]
    },
    {
     "ename": "TypeError",
     "evalue": "'dict' object is not reversible",
     "output_type": "error",
     "traceback": [
      "\u001b[0;31m---------------------------------------------------------------------------\u001b[0m",
      "\u001b[0;31mTypeError\u001b[0m                                 Traceback (most recent call last)",
      "\u001b[0;32m<ipython-input-36-2a388c338d09>\u001b[0m in \u001b[0;36m<module>\u001b[0;34m\u001b[0m\n\u001b[1;32m     11\u001b[0m \u001b[0mprint\u001b[0m\u001b[0;34m(\u001b[0m\u001b[0mv\u001b[0m\u001b[0;34m/\u001b[0m\u001b[0msum_u\u001b[0m\u001b[0;34m)\u001b[0m\u001b[0;34m\u001b[0m\u001b[0;34m\u001b[0m\u001b[0m\n\u001b[1;32m     12\u001b[0m \u001b[0mprob\u001b[0m \u001b[0;34m=\u001b[0m \u001b[0;34m{\u001b[0m\u001b[0;34m}\u001b[0m\u001b[0;34m\u001b[0m\u001b[0;34m\u001b[0m\u001b[0m\n\u001b[0;32m---> 13\u001b[0;31m \u001b[0mprint\u001b[0m\u001b[0;34m(\u001b[0m\u001b[0mreversed\u001b[0m\u001b[0;34m(\u001b[0m\u001b[0msorted_u\u001b[0m\u001b[0;34m)\u001b[0m\u001b[0;34m)\u001b[0m\u001b[0;34m\u001b[0m\u001b[0;34m\u001b[0m\u001b[0m\n\u001b[0m\u001b[1;32m     14\u001b[0m \u001b[0;32mfor\u001b[0m \u001b[0mk\u001b[0m\u001b[0;34m,\u001b[0m\u001b[0mv\u001b[0m \u001b[0;32min\u001b[0m \u001b[0mreversed\u001b[0m\u001b[0;34m(\u001b[0m\u001b[0msorted_u\u001b[0m\u001b[0;34m)\u001b[0m\u001b[0;34m:\u001b[0m\u001b[0;34m\u001b[0m\u001b[0;34m\u001b[0m\u001b[0m\n\u001b[1;32m     15\u001b[0m     \u001b[0mprob\u001b[0m\u001b[0;34m[\u001b[0m\u001b[0mk\u001b[0m\u001b[0;34m]\u001b[0m \u001b[0;34m=\u001b[0m \u001b[0mv\u001b[0m\u001b[0;34m/\u001b[0m\u001b[0mmax_u\u001b[0m\u001b[0;34m\u001b[0m\u001b[0;34m\u001b[0m\u001b[0m\n",
      "\u001b[0;31mTypeError\u001b[0m: 'dict' object is not reversible"
     ]
    }
   ],
   "source": [
    "# utility init\n",
    "#np.random()\n",
    "sorted_u = {1:100, 2:20, 3:30}\n",
    "cap = ceil(len(sorted_u)*(1-0.95))\n",
    "print(cap)\n",
    "max_u = max(sorted_u.values())\n",
    "sum_u = sum(sorted_u.values())\n",
    "v = np.array(list(sorted_u.values()))\n",
    "print(v, type(v))\n",
    "print(softmax(v))\n",
    "print(v/sum_u)\n",
    "prob = {}\n",
    "print(reversed(sorted_u))\n",
    "for k,v in reversed(sorted_u):\n",
    "    prob[k] = v/max_u\n",
    "print(prob)"
   ]
  },
  {
   "cell_type": "code",
   "execution_count": 47,
   "metadata": {},
   "outputs": [
    {
     "name": "stdout",
     "output_type": "stream",
     "text": [
      "[ 5  3  1  6  7  4  2  4  1  6  2  4  7  6  9  6  3  4  5  2  4  5  8 10\n",
      "  7  3  4  4  3  7  5  3  3  7  6  4  6  5  4  5 10  3  6  3  7  8  3  5\n",
      "  3  5  7  8  5  5  6  4  6  4  3  5  6  8  5  7  5  4  4  6  6  2  4  5\n",
      "  4  6  6  5  4  2 10  6  2  5  5  7  3  4  5  6  4  9  5  4  5  2  5  6\n",
      "  5  4  5  6]\n",
      "[0.1875 0.375  0.4375]\n"
     ]
    },
    {
     "data": {
      "text/plain": [
       "(array([ 2.,  7., 12., 20., 23., 18.,  9.,  4.,  2.,  3.]),\n",
       " array([ 1. ,  1.9,  2.8,  3.7,  4.6,  5.5,  6.4,  7.3,  8.2,  9.1, 10. ]),\n",
       " <BarContainer object of 10 artists>)"
      ]
     },
     "execution_count": 47,
     "metadata": {},
     "output_type": "execute_result"
    },
    {
     "data": {
      "image/png": "[encoded data removed]",
      "text/plain": [
       "<Figure size 432x288 with 1 Axes>"
      ]
     },
     "metadata": {
      "needs_background": "light"
     },
     "output_type": "display_data"
    }
   ],
   "source": [
    "np.random.choice(list(sorted_u.keys()), 2, p=[0.1, 0.3, 0.6])\n",
    "t_i = np.random.poisson(4, size=100) + 1\n",
    "pdf = t_i[[1,3,4]]/sum(t_i[[1,3,4]])\n",
    "\n",
    "print(t_i)\n",
    "print(pdf)\n",
    "plt.hist(t_i)"
   ]
  },
  {
   "cell_type": "code",
   "execution_count": null,
   "metadata": {},
   "outputs": [],
   "source": [
    "num_users = 100\n",
    "shard_per_user = 10\n",
    "num_classes = 10\n",
    "n_shard = shard_per_user*num_users\n",
    "shard_per_class = int(shard_per_user * num_users / num_classes)\n",
    "all_shards = list(range(num_classes)) * shard_per_class\n",
    "#print(all_shards)\n",
    "np.random.shuffle(all_shards)\n",
    "#print(all_shards)\n",
    "\n",
    "\n",
    "pdf = norm.pdf(range(num_users) , loc = int(num_users/2) , scale = int(num_users/3))\n",
    "pdf = pdf / pdf.sum()\n",
    "#print(pdf)\n",
    "#print(np.sum(pdf))\n",
    "#print(np.round(pdf*n_shard))\n",
    "plt.plot(pdf*n_shard)\n",
    "\n",
    "shard_owner = np.random.choice(range(num_users), size=n_shard-num_users, p = pdf)\n",
    "shard_owner = np.concatenate((shard_owner, range(num_users)), axis=None)\n",
    "print(list(shard_owner))\n",
    "unbalanced_rand_set = []\n",
    "for i in range(num_users): unbalanced_rand_set.append([])\n",
    "for shard, owner in zip(all_shards, shard_owner):\n",
    "    unbalanced_rand_set[owner].append(shard)\n",
    "\n",
    "print(unbalanced_rand_set)\n",
    "ret = plt.hist(shard_owner, bins = num_users)\n",
    "cnt = ret[0]\n",
    "assert(sum(cnt) == n_shard)\n",
    "print(cnt)\n",
    "print(max(cnt))\n",
    "print(min(cnt))"
   ]
  },
  {
   "cell_type": "code",
   "execution_count": null,
   "metadata": {},
   "outputs": [],
   "source": []
  },
  {
   "cell_type": "code",
   "execution_count": null,
   "metadata": {},
   "outputs": [],
   "source": []
  },
  {
   "cell_type": "code",
   "execution_count": null,
   "metadata": {},
   "outputs": [],
   "source": []
  }
 ],
 "metadata": {
  "kernelspec": {
   "display_name": "Python 3.7.3 ('base')",
   "language": "python",
   "name": "python3"
  },
  "language_info": {
   "codemirror_mode": {
    "name": "ipython",
    "version": 3
   },
   "file_extension": ".py",
   "mimetype": "text/x-python",
   "name": "python",
   "nbconvert_exporter": "python",
   "pygments_lexer": "ipython3",
   "version": "3.7.3"
  },
  "vscode": {
   "interpreter": {
    "hash": "40d3a090f54c6569ab1632332b64b2c03c39dcf918b08424e98f38b5ae0af88f"
   }
  }
 },
 "nbformat": 4,
 "nbformat_minor": 2
}
